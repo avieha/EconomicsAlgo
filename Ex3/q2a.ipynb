{
  "metadata": {
    "language_info": {
      "codemirror_mode": {
        "name": "python",
        "version": 3
      },
      "file_extension": ".py",
      "mimetype": "text/x-python",
      "name": "python",
      "nbconvert_exporter": "python",
      "pygments_lexer": "ipython3",
      "version": "3.8"
    },
    "kernelspec": {
      "name": "python",
      "display_name": "Python (Pyodide)",
      "language": "python"
    }
  },
  "nbformat_minor": 4,
  "nbformat": 4,
  "cells": [
    {
      "cell_type": "code",
      "source": "%pip install apportionment\nimport apportionment.methods as app\n# from voting import apportionment\n\n# I've used this repo for calculating webster easily: https://github.com/martinlackner/apportionment\n\nparties = ['Likud', 'Yesh Atid', 'Tzionut Datit', 'Machane Mamlachti', 'Shas', 'Yahadut HaTorah', 'Yisrael Beytenu',\n           'Raam',\n           'Hadash-Taal', 'HaAvoda']\nvotes = [1115336, 847435, 516470, 432482, 392964, 280194, 213687, 194047, 178735, 175992]\nreal_results = [32, 24, 14, 12, 11, 7, 6, 5, 5, 4]\nseats = 120\nwebster_results = app.compute(\"webster\", votes, seats, parties)\n# webster_results = apportionment.webster(votes, seats)\nsame = more = less = 0\nfor i in range(len(webster_results)):\n    if webster_results[i] < real_results[i]:\n        print(parties[i], \"got LESS seats using Webster\", webster_results[i], \"compares to: \", real_results[i])\n        less += 1\n    if webster_results[i] > real_results[i]:\n        print(parties[i], \"got MORE seats using Webster\", webster_results[i], \"compares to: \", real_results[i])\n        more += 1\n    if webster_results[i] == real_results[i]:\n        print(parties[i], \"got SAME seats using Webster\", webster_results[i], \"compares to: \", real_results[i])\n        same += 1\nprint(\"\\nsame:\", same, \"more:\", more, \"less:\", less)",
      "metadata": {
        "trusted": true
      },
      "execution_count": 1,
      "outputs": [
        {
          "name": "stdout",
          "text": "Likud got LESS seats using Webster 31 compares to:  32\nYesh Atid got LESS seats using Webster 23 compares to:  24\nTzionut Datit got SAME seats using Webster 14 compares to:  14\nMachane Mamlachti got SAME seats using Webster 12 compares to:  12\nShas got SAME seats using Webster 11 compares to:  11\nYahadut HaTorah got MORE seats using Webster 8 compares to:  7\nYisrael Beytenu got SAME seats using Webster 6 compares to:  6\nRaam got SAME seats using Webster 5 compares to:  5\nHadash-Taal got SAME seats using Webster 5 compares to:  5\nHaAvoda got MORE seats using Webster 5 compares to:  4\n\nsame: 6 more: 2 less: 2\n",
          "output_type": "stream"
        }
      ]
    }
  ]
}